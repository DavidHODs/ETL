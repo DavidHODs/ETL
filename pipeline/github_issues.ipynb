{
 "cells": [
  {
   "cell_type": "code",
   "execution_count": 1,
   "metadata": {},
   "outputs": [],
   "source": [
    "import polars"
   ]
  },
  {
   "cell_type": "code",
   "execution_count": 2,
   "metadata": {},
   "outputs": [
    {
     "data": {
      "text/html": [
       "<div><style>\n",
       ".dataframe > thead > tr,\n",
       ".dataframe > tbody > tr {\n",
       "  text-align: right;\n",
       "  white-space: pre-wrap;\n",
       "}\n",
       "</style>\n",
       "<small>shape: (9, 9)</small><table border=\"1\" class=\"dataframe\"><thead><tr><th>statistic</th><th>id</th><th>title</th><th>state</th><th>created_at</th><th>updated_at</th><th>reactions_total</th><th>reactions_plus1</th><th>reactions_minus1</th></tr><tr><td>str</td><td>f64</td><td>str</td><td>str</td><td>str</td><td>str</td><td>f64</td><td>f64</td><td>f64</td></tr></thead><tbody><tr><td>&quot;count&quot;</td><td>1000.0</td><td>&quot;1000&quot;</td><td>&quot;1000&quot;</td><td>&quot;1000&quot;</td><td>&quot;1000&quot;</td><td>1000.0</td><td>1000.0</td><td>1000.0</td></tr><tr><td>&quot;null_count&quot;</td><td>0.0</td><td>&quot;0&quot;</td><td>&quot;0&quot;</td><td>&quot;0&quot;</td><td>&quot;0&quot;</td><td>0.0</td><td>0.0</td><td>0.0</td></tr><tr><td>&quot;mean&quot;</td><td>2.6475e9</td><td>null</td><td>null</td><td>null</td><td>null</td><td>0.796</td><td>0.709</td><td>0.0</td></tr><tr><td>&quot;std&quot;</td><td>1.6032e8</td><td>null</td><td>null</td><td>null</td><td>null</td><td>1.783694</td><td>1.479361</td><td>0.0</td></tr><tr><td>&quot;min&quot;</td><td>2.3847e9</td><td>&quot;&quot;numpy.float64 object is not c…</td><td>&quot;open&quot;</td><td>&quot;2024-07-01T20:37:15Z&quot;</td><td>&quot;2024-07-02T15:24:54Z&quot;</td><td>0.0</td><td>0.0</td><td>0.0</td></tr><tr><td>&quot;25%&quot;</td><td>2.5009e9</td><td>null</td><td>null</td><td>null</td><td>null</td><td>0.0</td><td>0.0</td><td>0.0</td></tr><tr><td>&quot;50%&quot;</td><td>2.6582e9</td><td>null</td><td>null</td><td>null</td><td>null</td><td>0.0</td><td>0.0</td><td>0.0</td></tr><tr><td>&quot;75%&quot;</td><td>2.7968e9</td><td>null</td><td>null</td><td>null</td><td>null</td><td>1.0</td><td>1.0</td><td>0.0</td></tr><tr><td>&quot;max&quot;</td><td>2.8907e9</td><td>&quot;【Rust】Broken Source Code Link …</td><td>&quot;open&quot;</td><td>&quot;2025-03-03T09:58:47Z&quot;</td><td>&quot;2025-03-03T10:12:13Z&quot;</td><td>33.0</td><td>19.0</td><td>0.0</td></tr></tbody></table></div>"
      ],
      "text/plain": [
       "shape: (9, 9)\n",
       "┌────────────┬──────────┬────────────┬───────┬───┬────────────┬────────────┬───────────┬───────────┐\n",
       "│ statistic  ┆ id       ┆ title      ┆ state ┆ … ┆ updated_at ┆ reactions_ ┆ reactions ┆ reactions │\n",
       "│ ---        ┆ ---      ┆ ---        ┆ ---   ┆   ┆ ---        ┆ total      ┆ _plus1    ┆ _minus1   │\n",
       "│ str        ┆ f64      ┆ str        ┆ str   ┆   ┆ str        ┆ ---        ┆ ---       ┆ ---       │\n",
       "│            ┆          ┆            ┆       ┆   ┆            ┆ f64        ┆ f64       ┆ f64       │\n",
       "╞════════════╪══════════╪════════════╪═══════╪═══╪════════════╪════════════╪═══════════╪═══════════╡\n",
       "│ count      ┆ 1000.0   ┆ 1000       ┆ 1000  ┆ … ┆ 1000       ┆ 1000.0     ┆ 1000.0    ┆ 1000.0    │\n",
       "│ null_count ┆ 0.0      ┆ 0          ┆ 0     ┆ … ┆ 0          ┆ 0.0        ┆ 0.0       ┆ 0.0       │\n",
       "│ mean       ┆ 2.6475e9 ┆ null       ┆ null  ┆ … ┆ null       ┆ 0.796      ┆ 0.709     ┆ 0.0       │\n",
       "│ std        ┆ 1.6032e8 ┆ null       ┆ null  ┆ … ┆ null       ┆ 1.783694   ┆ 1.479361  ┆ 0.0       │\n",
       "│ min        ┆ 2.3847e9 ┆ \"numpy.flo ┆ open  ┆ … ┆ 2024-07-02 ┆ 0.0        ┆ 0.0       ┆ 0.0       │\n",
       "│            ┆          ┆ at64       ┆       ┆   ┆ T15:24:54Z ┆            ┆           ┆           │\n",
       "│            ┆          ┆ object is  ┆       ┆   ┆            ┆            ┆           ┆           │\n",
       "│            ┆          ┆ not c…     ┆       ┆   ┆            ┆            ┆           ┆           │\n",
       "│ 25%        ┆ 2.5009e9 ┆ null       ┆ null  ┆ … ┆ null       ┆ 0.0        ┆ 0.0       ┆ 0.0       │\n",
       "│ 50%        ┆ 2.6582e9 ┆ null       ┆ null  ┆ … ┆ null       ┆ 0.0        ┆ 0.0       ┆ 0.0       │\n",
       "│ 75%        ┆ 2.7968e9 ┆ null       ┆ null  ┆ … ┆ null       ┆ 1.0        ┆ 1.0       ┆ 0.0       │\n",
       "│ max        ┆ 2.8907e9 ┆ 【Rust】Br ┆ open  ┆ … ┆ 2025-03-03 ┆ 33.0       ┆ 19.0      ┆ 0.0       │\n",
       "│            ┆          ┆ oken       ┆       ┆   ┆ T10:12:13Z ┆            ┆           ┆           │\n",
       "│            ┆          ┆ Source     ┆       ┆   ┆            ┆            ┆           ┆           │\n",
       "│            ┆          ┆ Code Link  ┆       ┆   ┆            ┆            ┆           ┆           │\n",
       "│            ┆          ┆ …          ┆       ┆   ┆            ┆            ┆           ┆           │\n",
       "└────────────┴──────────┴────────────┴───────┴───┴────────────┴────────────┴───────────┴───────────┘"
      ]
     },
     "execution_count": 2,
     "metadata": {},
     "output_type": "execute_result"
    }
   ],
   "source": [
    "dataframe: polars.DataFrame = polars.read_parquet(\"../data/github_issues.parquet\")\n",
    "dataframe.describe()"
   ]
  },
  {
   "cell_type": "code",
   "execution_count": 3,
   "metadata": {},
   "outputs": [
    {
     "data": {
      "text/plain": [
       "(['id',\n",
       "  'title',\n",
       "  'state',\n",
       "  'created_at',\n",
       "  'updated_at',\n",
       "  'reactions_total',\n",
       "  'reactions_plus1',\n",
       "  'reactions_minus1'],\n",
       " (1000, 8),\n",
       " Schema([('id', Int64),\n",
       "         ('title', String),\n",
       "         ('state', String),\n",
       "         ('created_at', String),\n",
       "         ('updated_at', String),\n",
       "         ('reactions_total', Int64),\n",
       "         ('reactions_plus1', Int64),\n",
       "         ('reactions_minus1', Int64)]))"
      ]
     },
     "execution_count": 3,
     "metadata": {},
     "output_type": "execute_result"
    }
   ],
   "source": [
    "dataframe.columns, dataframe.shape, dataframe.schema"
   ]
  },
  {
   "cell_type": "code",
   "execution_count": 4,
   "metadata": {},
   "outputs": [
    {
     "data": {
      "text/html": [
       "<div><style>\n",
       ".dataframe > thead > tr,\n",
       ".dataframe > tbody > tr {\n",
       "  text-align: right;\n",
       "  white-space: pre-wrap;\n",
       "}\n",
       "</style>\n",
       "<small>shape: (5, 8)</small><table border=\"1\" class=\"dataframe\"><thead><tr><th>id</th><th>title</th><th>state</th><th>created_at</th><th>updated_at</th><th>reactions_total</th><th>reactions_plus1</th><th>reactions_minus1</th></tr><tr><td>i64</td><td>str</td><td>str</td><td>str</td><td>str</td><td>i64</td><td>i64</td><td>i64</td></tr></thead><tbody><tr><td>2890744375</td><td>&quot;fix: Don&#x27;t hit parquet::pre-fi…</td><td>&quot;open&quot;</td><td>&quot;2025-03-03T09:58:47Z&quot;</td><td>&quot;2025-03-03T10:12:13Z&quot;</td><td>0</td><td>0</td><td>0</td></tr><tr><td>2890665700</td><td>&quot;`scan_ipc` broken for Enum on …</td><td>&quot;open&quot;</td><td>&quot;2025-03-03T09:32:46Z&quot;</td><td>&quot;2025-03-03T09:32:46Z&quot;</td><td>0</td><td>0</td><td>0</td></tr><tr><td>2890608026</td><td>&quot;fix: Several aspects related t…</td><td>&quot;open&quot;</td><td>&quot;2025-03-03T09:09:05Z&quot;</td><td>&quot;2025-03-03T09:26:52Z&quot;</td><td>0</td><td>0</td><td>0</td></tr><tr><td>2890524322</td><td>&quot;feat: Add NDJSON source to new…</td><td>&quot;open&quot;</td><td>&quot;2025-03-03T08:32:17Z&quot;</td><td>&quot;2025-03-03T09:37:25Z&quot;</td><td>1</td><td>0</td><td>0</td></tr><tr><td>2889739758</td><td>&quot;Parquet `parallel=prefiltered`…</td><td>&quot;open&quot;</td><td>&quot;2025-03-02T19:27:11Z&quot;</td><td>&quot;2025-03-03T06:34:52Z&quot;</td><td>0</td><td>0</td><td>0</td></tr></tbody></table></div>"
      ],
      "text/plain": [
       "shape: (5, 8)\n",
       "┌────────────┬────────────┬───────┬────────────┬────────────┬────────────┬────────────┬────────────┐\n",
       "│ id         ┆ title      ┆ state ┆ created_at ┆ updated_at ┆ reactions_ ┆ reactions_ ┆ reactions_ │\n",
       "│ ---        ┆ ---        ┆ ---   ┆ ---        ┆ ---        ┆ total      ┆ plus1      ┆ minus1     │\n",
       "│ i64        ┆ str        ┆ str   ┆ str        ┆ str        ┆ ---        ┆ ---        ┆ ---        │\n",
       "│            ┆            ┆       ┆            ┆            ┆ i64        ┆ i64        ┆ i64        │\n",
       "╞════════════╪════════════╪═══════╪════════════╪════════════╪════════════╪════════════╪════════════╡\n",
       "│ 2890744375 ┆ fix: Don't ┆ open  ┆ 2025-03-03 ┆ 2025-03-03 ┆ 0          ┆ 0          ┆ 0          │\n",
       "│            ┆ hit parque ┆       ┆ T09:58:47Z ┆ T10:12:13Z ┆            ┆            ┆            │\n",
       "│            ┆ t::pre-fi… ┆       ┆            ┆            ┆            ┆            ┆            │\n",
       "│ 2890665700 ┆ `scan_ipc` ┆ open  ┆ 2025-03-03 ┆ 2025-03-03 ┆ 0          ┆ 0          ┆ 0          │\n",
       "│            ┆ broken for ┆       ┆ T09:32:46Z ┆ T09:32:46Z ┆            ┆            ┆            │\n",
       "│            ┆ Enum on …  ┆       ┆            ┆            ┆            ┆            ┆            │\n",
       "│ 2890608026 ┆ fix:       ┆ open  ┆ 2025-03-03 ┆ 2025-03-03 ┆ 0          ┆ 0          ┆ 0          │\n",
       "│            ┆ Several    ┆       ┆ T09:09:05Z ┆ T09:26:52Z ┆            ┆            ┆            │\n",
       "│            ┆ aspects    ┆       ┆            ┆            ┆            ┆            ┆            │\n",
       "│            ┆ related t… ┆       ┆            ┆            ┆            ┆            ┆            │\n",
       "│ 2890524322 ┆ feat: Add  ┆ open  ┆ 2025-03-03 ┆ 2025-03-03 ┆ 1          ┆ 0          ┆ 0          │\n",
       "│            ┆ NDJSON     ┆       ┆ T08:32:17Z ┆ T09:37:25Z ┆            ┆            ┆            │\n",
       "│            ┆ source to  ┆       ┆            ┆            ┆            ┆            ┆            │\n",
       "│            ┆ new…       ┆       ┆            ┆            ┆            ┆            ┆            │\n",
       "│ 2889739758 ┆ Parquet    ┆ open  ┆ 2025-03-02 ┆ 2025-03-03 ┆ 0          ┆ 0          ┆ 0          │\n",
       "│            ┆ `parallel= ┆       ┆ T19:27:11Z ┆ T06:34:52Z ┆            ┆            ┆            │\n",
       "│            ┆ prefiltere ┆       ┆            ┆            ┆            ┆            ┆            │\n",
       "│            ┆ d`…        ┆       ┆            ┆            ┆            ┆            ┆            │\n",
       "└────────────┴────────────┴───────┴────────────┴────────────┴────────────┴────────────┴────────────┘"
      ]
     },
     "execution_count": 4,
     "metadata": {},
     "output_type": "execute_result"
    }
   ],
   "source": [
    "dataframe.head()"
   ]
  },
  {
   "cell_type": "code",
   "execution_count": 5,
   "metadata": {},
   "outputs": [],
   "source": [
    "def fill_null_with_max(dataframe: polars.DataFrame) -> None:\n",
    "  for col in dataframe.columns:\n",
    "    max_val = dataframe[col].max()\n",
    "    dataframe = dataframe.with_columns(\n",
    "      polars.col(col).fill_null(max_val)\n",
    "    )\n",
    "  \n",
    "  dataframe.write_parquet(\"../data/cleaned_github_issues.parquet\")\n",
    "  return"
   ]
  },
  {
   "cell_type": "code",
   "execution_count": null,
   "metadata": {},
   "outputs": [],
   "source": []
  },
  {
   "cell_type": "code",
   "execution_count": 6,
   "metadata": {},
   "outputs": [],
   "source": [
    "fill_null_with_max(dataframe)"
   ]
  },
  {
   "cell_type": "code",
   "execution_count": null,
   "metadata": {},
   "outputs": [],
   "source": []
  }
 ],
 "metadata": {
  "kernelspec": {
   "display_name": "etl-pipeline-kyLB6E9j-py3.10",
   "language": "python",
   "name": "python3"
  },
  "language_info": {
   "codemirror_mode": {
    "name": "ipython",
    "version": 3
   },
   "file_extension": ".py",
   "mimetype": "text/x-python",
   "name": "python",
   "nbconvert_exporter": "python",
   "pygments_lexer": "ipython3",
   "version": "3.10.12"
  }
 },
 "nbformat": 4,
 "nbformat_minor": 2
}
